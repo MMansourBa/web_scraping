{
 "cells": [
  {
   "cell_type": "markdown",
   "metadata": {},
   "source": [
    "- Site web homme: https://6point9.sn/categorie/homme\n",
    "- Site web femme: https://6point9.sn/categorie/femme"
   ]
  },
  {
   "cell_type": "markdown",
   "metadata": {},
   "source": [
    "**Etape 1:** *Installation et importation des bibliotheques*"
   ]
  },
  {
   "cell_type": "code",
   "execution_count": 1,
   "metadata": {},
   "outputs": [
    {
     "name": "stdout",
     "output_type": "stream",
     "text": [
      "Requirement already satisfied: requests in c:\\users\\hp\\appdata\\local\\programs\\python\\python312\\lib\\site-packages (2.32.3)\n",
      "Requirement already satisfied: beautifulsoup4 in c:\\users\\hp\\appdata\\local\\programs\\python\\python312\\lib\\site-packages (4.12.3)\n",
      "Requirement already satisfied: scrapy in c:\\users\\hp\\appdata\\local\\programs\\python\\python312\\lib\\site-packages (2.11.2)\n",
      "Requirement already satisfied: selenium in c:\\users\\hp\\appdata\\local\\programs\\python\\python312\\lib\\site-packages (4.23.0)\n",
      "Requirement already satisfied: pandas in c:\\users\\hp\\appdata\\local\\programs\\python\\python312\\lib\\site-packages (2.2.0)\n",
      "Requirement already satisfied: seaborn in c:\\users\\hp\\appdata\\local\\programs\\python\\python312\\lib\\site-packages (0.13.2)\n",
      "Requirement already satisfied: charset-normalizer<4,>=2 in c:\\users\\hp\\appdata\\local\\programs\\python\\python312\\lib\\site-packages (from requests) (3.3.2)\n",
      "Requirement already satisfied: idna<4,>=2.5 in c:\\users\\hp\\appdata\\local\\programs\\python\\python312\\lib\\site-packages (from requests) (3.7)\n",
      "Requirement already satisfied: urllib3<3,>=1.21.1 in c:\\users\\hp\\appdata\\local\\programs\\python\\python312\\lib\\site-packages (from requests) (2.2.2)\n",
      "Requirement already satisfied: certifi>=2017.4.17 in c:\\users\\hp\\appdata\\local\\programs\\python\\python312\\lib\\site-packages (from requests) (2024.7.4)\n",
      "Requirement already satisfied: soupsieve>1.2 in c:\\users\\hp\\appdata\\local\\programs\\python\\python312\\lib\\site-packages (from beautifulsoup4) (2.5)\n",
      "Requirement already satisfied: Twisted>=18.9.0 in c:\\users\\hp\\appdata\\local\\programs\\python\\python312\\lib\\site-packages (from scrapy) (24.3.0)\n",
      "Requirement already satisfied: cryptography>=36.0.0 in c:\\users\\hp\\appdata\\local\\programs\\python\\python312\\lib\\site-packages (from scrapy) (43.0.0)\n",
      "Requirement already satisfied: cssselect>=0.9.1 in c:\\users\\hp\\appdata\\local\\programs\\python\\python312\\lib\\site-packages (from scrapy) (1.2.0)\n",
      "Requirement already satisfied: itemloaders>=1.0.1 in c:\\users\\hp\\appdata\\local\\programs\\python\\python312\\lib\\site-packages (from scrapy) (1.3.1)\n",
      "Requirement already satisfied: parsel>=1.5.0 in c:\\users\\hp\\appdata\\local\\programs\\python\\python312\\lib\\site-packages (from scrapy) (1.9.1)\n",
      "Requirement already satisfied: pyOpenSSL>=21.0.0 in c:\\users\\hp\\appdata\\local\\programs\\python\\python312\\lib\\site-packages (from scrapy) (24.2.1)\n",
      "Requirement already satisfied: queuelib>=1.4.2 in c:\\users\\hp\\appdata\\local\\programs\\python\\python312\\lib\\site-packages (from scrapy) (1.7.0)\n",
      "Requirement already satisfied: service-identity>=18.1.0 in c:\\users\\hp\\appdata\\local\\programs\\python\\python312\\lib\\site-packages (from scrapy) (24.1.0)\n",
      "Requirement already satisfied: w3lib>=1.17.0 in c:\\users\\hp\\appdata\\local\\programs\\python\\python312\\lib\\site-packages (from scrapy) (2.2.1)\n",
      "Requirement already satisfied: zope.interface>=5.1.0 in c:\\users\\hp\\appdata\\local\\programs\\python\\python312\\lib\\site-packages (from scrapy) (6.4.post2)\n",
      "Requirement already satisfied: protego>=0.1.15 in c:\\users\\hp\\appdata\\local\\programs\\python\\python312\\lib\\site-packages (from scrapy) (0.3.1)\n",
      "Requirement already satisfied: itemadapter>=0.1.0 in c:\\users\\hp\\appdata\\local\\programs\\python\\python312\\lib\\site-packages (from scrapy) (0.9.0)\n",
      "Requirement already satisfied: setuptools in c:\\users\\hp\\appdata\\local\\programs\\python\\python312\\lib\\site-packages (from scrapy) (71.1.0)\n",
      "Requirement already satisfied: packaging in c:\\users\\hp\\appdata\\roaming\\python\\python312\\site-packages (from scrapy) (24.0)\n",
      "Requirement already satisfied: tldextract in c:\\users\\hp\\appdata\\local\\programs\\python\\python312\\lib\\site-packages (from scrapy) (5.1.2)\n",
      "Requirement already satisfied: lxml>=4.4.1 in c:\\users\\hp\\appdata\\local\\programs\\python\\python312\\lib\\site-packages (from scrapy) (5.2.2)\n",
      "Requirement already satisfied: defusedxml>=0.7.1 in c:\\users\\hp\\appdata\\local\\programs\\python\\python312\\lib\\site-packages (from scrapy) (0.7.1)\n",
      "Requirement already satisfied: PyDispatcher>=2.0.5 in c:\\users\\hp\\appdata\\local\\programs\\python\\python312\\lib\\site-packages (from scrapy) (2.0.7)\n",
      "Requirement already satisfied: trio~=0.17 in c:\\users\\hp\\appdata\\local\\programs\\python\\python312\\lib\\site-packages (from selenium) (0.26.0)\n",
      "Requirement already satisfied: trio-websocket~=0.9 in c:\\users\\hp\\appdata\\local\\programs\\python\\python312\\lib\\site-packages (from selenium) (0.11.1)\n",
      "Requirement already satisfied: typing_extensions~=4.9.0 in c:\\users\\hp\\appdata\\local\\programs\\python\\python312\\lib\\site-packages (from selenium) (4.9.0)\n",
      "Requirement already satisfied: websocket-client==1.8.0 in c:\\users\\hp\\appdata\\local\\programs\\python\\python312\\lib\\site-packages (from selenium) (1.8.0)\n",
      "Requirement already satisfied: numpy<2,>=1.26.0 in c:\\users\\hp\\appdata\\local\\programs\\python\\python312\\lib\\site-packages (from pandas) (1.26.3)\n",
      "Requirement already satisfied: python-dateutil>=2.8.2 in c:\\users\\hp\\appdata\\local\\programs\\python\\python312\\lib\\site-packages (from pandas) (2.8.2)\n",
      "Requirement already satisfied: pytz>=2020.1 in c:\\users\\hp\\appdata\\local\\programs\\python\\python312\\lib\\site-packages (from pandas) (2023.3.post1)\n",
      "Requirement already satisfied: tzdata>=2022.7 in c:\\users\\hp\\appdata\\local\\programs\\python\\python312\\lib\\site-packages (from pandas) (2023.4)\n",
      "Requirement already satisfied: matplotlib!=3.6.1,>=3.4 in c:\\users\\hp\\appdata\\local\\programs\\python\\python312\\lib\\site-packages (from seaborn) (3.9.1)\n",
      "Requirement already satisfied: cffi>=1.12 in c:\\users\\hp\\appdata\\local\\programs\\python\\python312\\lib\\site-packages (from cryptography>=36.0.0->scrapy) (1.16.0)\n",
      "Requirement already satisfied: jmespath>=0.9.5 in c:\\users\\hp\\appdata\\local\\programs\\python\\python312\\lib\\site-packages (from itemloaders>=1.0.1->scrapy) (1.0.1)\n",
      "Requirement already satisfied: contourpy>=1.0.1 in c:\\users\\hp\\appdata\\local\\programs\\python\\python312\\lib\\site-packages (from matplotlib!=3.6.1,>=3.4->seaborn) (1.2.1)\n",
      "Requirement already satisfied: cycler>=0.10 in c:\\users\\hp\\appdata\\local\\programs\\python\\python312\\lib\\site-packages (from matplotlib!=3.6.1,>=3.4->seaborn) (0.12.1)\n",
      "Requirement already satisfied: fonttools>=4.22.0 in c:\\users\\hp\\appdata\\local\\programs\\python\\python312\\lib\\site-packages (from matplotlib!=3.6.1,>=3.4->seaborn) (4.53.1)\n",
      "Requirement already satisfied: kiwisolver>=1.3.1 in c:\\users\\hp\\appdata\\local\\programs\\python\\python312\\lib\\site-packages (from matplotlib!=3.6.1,>=3.4->seaborn) (1.4.5)\n",
      "Requirement already satisfied: pillow>=8 in c:\\users\\hp\\appdata\\local\\programs\\python\\python312\\lib\\site-packages (from matplotlib!=3.6.1,>=3.4->seaborn) (10.4.0)\n",
      "Requirement already satisfied: pyparsing>=2.3.1 in c:\\users\\hp\\appdata\\local\\programs\\python\\python312\\lib\\site-packages (from matplotlib!=3.6.1,>=3.4->seaborn) (3.1.2)\n",
      "Requirement already satisfied: six>=1.5 in c:\\users\\hp\\appdata\\local\\programs\\python\\python312\\lib\\site-packages (from python-dateutil>=2.8.2->pandas) (1.16.0)\n",
      "Requirement already satisfied: attrs>=19.1.0 in c:\\users\\hp\\appdata\\local\\programs\\python\\python312\\lib\\site-packages (from service-identity>=18.1.0->scrapy) (23.2.0)\n",
      "Requirement already satisfied: pyasn1 in c:\\users\\hp\\appdata\\local\\programs\\python\\python312\\lib\\site-packages (from service-identity>=18.1.0->scrapy) (0.6.0)\n",
      "Requirement already satisfied: pyasn1-modules in c:\\users\\hp\\appdata\\local\\programs\\python\\python312\\lib\\site-packages (from service-identity>=18.1.0->scrapy) (0.4.0)\n",
      "Requirement already satisfied: sortedcontainers in c:\\users\\hp\\appdata\\local\\programs\\python\\python312\\lib\\site-packages (from trio~=0.17->selenium) (2.4.0)\n",
      "Requirement already satisfied: outcome in c:\\users\\hp\\appdata\\local\\programs\\python\\python312\\lib\\site-packages (from trio~=0.17->selenium) (1.3.0.post0)\n",
      "Requirement already satisfied: sniffio>=1.3.0 in c:\\users\\hp\\appdata\\local\\programs\\python\\python312\\lib\\site-packages (from trio~=0.17->selenium) (1.3.1)\n",
      "Requirement already satisfied: wsproto>=0.14 in c:\\users\\hp\\appdata\\local\\programs\\python\\python312\\lib\\site-packages (from trio-websocket~=0.9->selenium) (1.2.0)\n",
      "Requirement already satisfied: automat>=0.8.0 in c:\\users\\hp\\appdata\\local\\programs\\python\\python312\\lib\\site-packages (from Twisted>=18.9.0->scrapy) (22.10.0)\n",
      "Requirement already satisfied: constantly>=15.1 in c:\\users\\hp\\appdata\\local\\programs\\python\\python312\\lib\\site-packages (from Twisted>=18.9.0->scrapy) (23.10.4)\n",
      "Requirement already satisfied: hyperlink>=17.1.1 in c:\\users\\hp\\appdata\\local\\programs\\python\\python312\\lib\\site-packages (from Twisted>=18.9.0->scrapy) (21.0.0)\n",
      "Requirement already satisfied: incremental>=22.10.0 in c:\\users\\hp\\appdata\\local\\programs\\python\\python312\\lib\\site-packages (from Twisted>=18.9.0->scrapy) (22.10.0)\n",
      "Requirement already satisfied: twisted-iocpsupport<2,>=1.0.2 in c:\\users\\hp\\appdata\\local\\programs\\python\\python312\\lib\\site-packages (from Twisted>=18.9.0->scrapy) (1.0.4)\n",
      "Requirement already satisfied: pysocks!=1.5.7,<2.0,>=1.5.6 in c:\\users\\hp\\appdata\\local\\programs\\python\\python312\\lib\\site-packages (from urllib3<3,>=1.21.1->requests) (1.7.1)\n",
      "Requirement already satisfied: requests-file>=1.4 in c:\\users\\hp\\appdata\\local\\programs\\python\\python312\\lib\\site-packages (from tldextract->scrapy) (2.1.0)\n",
      "Requirement already satisfied: filelock>=3.0.8 in c:\\users\\hp\\appdata\\local\\programs\\python\\python312\\lib\\site-packages (from tldextract->scrapy) (3.15.4)\n",
      "Requirement already satisfied: pycparser in c:\\users\\hp\\appdata\\local\\programs\\python\\python312\\lib\\site-packages (from cffi>=1.12->cryptography>=36.0.0->scrapy) (2.22)\n",
      "Requirement already satisfied: h11<1,>=0.9.0 in c:\\users\\hp\\appdata\\local\\programs\\python\\python312\\lib\\site-packages (from wsproto>=0.14->trio-websocket~=0.9->selenium) (0.14.0)\n",
      "Note: you may need to restart the kernel to use updated packages.\n"
     ]
    },
    {
     "name": "stderr",
     "output_type": "stream",
     "text": [
      "\n",
      "[notice] A new release of pip is available: 23.2.1 -> 24.1.2\n",
      "[notice] To update, run: python.exe -m pip install --upgrade pip\n"
     ]
    }
   ],
   "source": [
    "pip install requests beautifulsoup4 scrapy selenium pandas seaborn"
   ]
  },
  {
   "cell_type": "code",
   "execution_count": 2,
   "metadata": {},
   "outputs": [
    {
     "name": "stderr",
     "output_type": "stream",
     "text": [
      "C:\\Users\\HP\\AppData\\Local\\Temp\\ipykernel_7388\\81041957.py:3: DeprecationWarning: \n",
      "Pyarrow will become a required dependency of pandas in the next major release of pandas (pandas 3.0),\n",
      "(to allow more performant data types, such as the Arrow string type, and better interoperability with other libraries)\n",
      "but was not found to be installed on your system.\n",
      "If this would cause problems for you,\n",
      "please provide us feedback at https://github.com/pandas-dev/pandas/issues/54466\n",
      "        \n",
      "  import pandas as pd\n"
     ]
    }
   ],
   "source": [
    "import requests\n",
    "from bs4 import BeautifulSoup\n",
    "import pandas as pd\n",
    "import time\n",
    "import re\n",
    "import numpy as np\n",
    "\n",
    "import seaborn as sns\n",
    "import matplotlib.pyplot as plt\n",
    "\n",
    "from scipy.stats import pearsonr\n",
    "from scipy.stats import f_oneway\n",
    "\n",
    "from selenium import webdriver\n",
    "from selenium.webdriver.common.by import By\n",
    "from selenium.webdriver.support.ui import WebDriverWait\n",
    "from selenium.webdriver.support import expected_conditions as EC"
   ]
  },
  {
   "cell_type": "markdown",
   "metadata": {},
   "source": [
    "**Etape 3 :** *Recuperation des informations d'un produit avec* ***BeautifulSoup***"
   ]
  },
  {
   "cell_type": "markdown",
   "metadata": {},
   "source": [
    "- Page 6point 9 | Homme: https://6point9.sn/categorie/homme"
   ]
  },
  {
   "cell_type": "code",
   "execution_count": 5,
   "metadata": {},
   "outputs": [
    {
     "name": "stdout",
     "output_type": "stream",
     "text": [
      "{'title': 'Tenue Traditionnelle', 'image_link': 'https://sixpointneuf.innovebox.com/storage/app/public/4273/conversions/660169bbca904_88DC58A5-7450-4398-9614-80072FE4A4AD-thumb.jpg', 'price': '80.000Fcfa'}\n",
      "{'title': 'Tenue Traditionnelle', 'image_link': 'https://sixpointneuf.innovebox.com/storage/app/public/4272/conversions/660169bb713db_7CF03219-A82E-42E3-9C9C-02A41D3B85B9-thumb.jpg', 'price': '80.000Fcfa'}\n",
      "{'title': 'Tenue Traditionnelle', 'image_link': 'https://sixpointneuf.innovebox.com/storage/app/public/4255/conversions/660169b208807_6B2F21BF-DFF5-4D72-850F-AF89182D0182-thumb.jpg', 'price': '80.000Fcfa'}\n",
      "{'title': 'Tenue Traditionnelle', 'image_link': 'https://sixpointneuf.innovebox.com/storage/app/public/4254/conversions/660169b18cc33_D2653FC1-8253-4A03-B6FC-A659B0DBF04C-thumb.jpg', 'price': '80.000Fcfa'}\n",
      "{'title': 'Tenue Traditionnelle', 'image_link': 'https://sixpointneuf.innovebox.com/storage/app/public/4247/conversions/660169adef5fc_7AE39296-DC8B-4D8D-92D0-4F53B5CC57F0-thumb.jpg', 'price': '80.000Fcfa'}\n",
      "{'title': 'Tenue Traditionnelle', 'image_link': 'https://sixpointneuf.innovebox.com/storage/app/public/4246/conversions/660169adaa9ac_A4C9357E-F71E-4D96-AEC4-BE5934EDF39D-thumb.jpg', 'price': '80.000Fcfa'}\n",
      "{'title': 'N/A', 'image_link': 'https://sixpointneuf.innovebox.com/storage/app/public/3605/conversions/65024f1e63394_IMG_9385-thumb.jpg', 'price': '60.000Fcfa'}\n",
      "{'title': 'Tenue Traditionnelle', 'image_link': 'https://sixpointneuf.innovebox.com/storage/app/public/3602/conversions/6500f584a4d54_IMG_0705-thumb.jpg', 'price': '60.000Fcfa'}\n",
      "{'title': 'Tenue Traditionnelle', 'image_link': 'https://sixpointneuf.innovebox.com/storage/app/public/3601/conversions/6500f583d7694_IMG_0700-thumb.jpg', 'price': '60.000Fcfa'}\n",
      "{'title': 'N/A', 'image_link': 'https://sixpointneuf.innovebox.com/storage/app/public/3600/conversions/6500f5826320d_IMG_0715-thumb.jpg', 'price': '60.000Fcfa'}\n",
      "{'title': 'Tenue Traditionnelle', 'image_link': 'https://sixpointneuf.innovebox.com/storage/app/public/3599/conversions/6500f5822f753_IMG_0737-thumb.jpg', 'price': '60.000Fcfa'}\n",
      "{'title': 'N/A', 'image_link': 'https://sixpointneuf.innovebox.com/storage/app/public/3598/conversions/6500f58032758_IMG_0744-thumb.jpg', 'price': '60.000Fcfa'}\n",
      "{'title': 'N/A', 'image_link': 'https://sixpointneuf.innovebox.com/storage/app/public/3597/conversions/6500f57ede458_IMG_0777-thumb.jpg', 'price': '60.000Fcfa'}\n",
      "{'title': 'Tenue Traditionnelle', 'image_link': 'https://sixpointneuf.innovebox.com/storage/app/public/3596/conversions/6500f57d075ef_IMG_0775-thumb.jpg', 'price': '60.000Fcfa'}\n",
      "{'title': 'N/A', 'image_link': 'https://sixpointneuf.innovebox.com/storage/app/public/3595/conversions/6500f57c82a8a_IMG_0755-thumb.jpg', 'price': '60.000Fcfa'}\n",
      "{'title': 'Tenue Traditionnelle', 'image_link': 'https://sixpointneuf.innovebox.com/storage/app/public/3594/conversions/6500f579822e3_IMG_0810-thumb.jpg', 'price': '60.000Fcfa'}\n",
      "{'title': 'Tenue Traditionnelle', 'image_link': 'https://sixpointneuf.innovebox.com/storage/app/public/3593/conversions/6500f57983710_IMG_0793-thumb.jpg', 'price': '60.000Fcfa'}\n",
      "{'title': 'N/A', 'image_link': 'https://sixpointneuf.innovebox.com/storage/app/public/3591/conversions/64ff9b43b82cb_IMG_0605-thumb.jpg', 'price': '60.000Fcfa'}\n",
      "{'title': 'N/A', 'image_link': 'https://sixpointneuf.innovebox.com/storage/app/public/3590/conversions/64ff9b430ecbe_IMG_0616-thumb.jpg', 'price': '60.000Fcfa'}\n",
      "{'title': 'Tenue Traditionnelle', 'image_link': 'https://sixpointneuf.innovebox.com/storage/app/public/3589/conversions/64ff9b41cd109_IMG_0563-thumb.jpg', 'price': '60.000Fcfa'}\n",
      "{'title': 'N/A', 'image_link': 'https://sixpointneuf.innovebox.com/storage/app/public/3588/conversions/64ff9b40e80ce_IMG_0567-thumb.jpg', 'price': '60.000Fcfa'}\n",
      "{'title': 'N/A', 'image_link': 'https://sixpointneuf.innovebox.com/storage/app/public/3587/conversions/64ff9b3d39946_IMG_0575-thumb.jpg', 'price': '60.000Fcfa'}\n",
      "{'title': 'N/A', 'image_link': 'https://sixpointneuf.innovebox.com/storage/app/public/3586/conversions/64ff9b3cc3eff_IMG_0556-thumb.jpg', 'price': '60.000Fcfa'}\n",
      "{'title': 'Tenue Traditionnelle', 'image_link': 'https://sixpointneuf.innovebox.com/storage/app/public/3584/conversions/64ff9b3c022d3_IMG_0537-thumb.jpg', 'price': '60.000Fcfa'}\n",
      "{'title': 'Tenue Traditionnelle', 'image_link': 'https://sixpointneuf.innovebox.com/storage/app/public/3583/conversions/64fe063ebaf6c_IMG_0344-thumb.jpg', 'price': '60.000Fcfa'}\n",
      "{'title': 'Tenue Traditionnelle', 'image_link': 'https://sixpointneuf.innovebox.com/storage/app/public/3582/conversions/64fe063e8284b_IMG_0392-thumb.jpg', 'price': '60.000Fcfa'}\n",
      "{'title': 'N/A', 'image_link': 'https://sixpointneuf.innovebox.com/storage/app/public/3581/conversions/64fe063d894b2_IMG_0416-thumb.jpg', 'price': '60.000Fcfa'}\n",
      "{'title': 'N/A', 'image_link': 'https://sixpointneuf.innovebox.com/storage/app/public/3580/conversions/64fe063d1e4e1_IMG_0450-thumb.jpg', 'price': '60.000Fcfa'}\n",
      "{'title': 'N/A', 'image_link': 'https://sixpointneuf.innovebox.com/storage/app/public/3579/conversions/64fe063b85d3e_IMG_9410-thumb.jpg', 'price': '60.000Fcfa'}\n",
      "{'title': 'Tenue Traditionnelle', 'image_link': 'https://sixpointneuf.innovebox.com/storage/app/public/3578/conversions/64fe063aa6b06_IMG_0386-thumb.jpg', 'price': '60.000Fcfa'}\n",
      "{'title': 'Tenue Traditionnelle', 'image_link': 'https://sixpointneuf.innovebox.com/storage/app/public/3577/conversions/64fe063a54021_IMG_0354-thumb.jpg', 'price': '60.000Fcfa'}\n",
      "{'title': 'Tenue Traditionnelle', 'image_link': 'https://sixpointneuf.innovebox.com/storage/app/public/3576/conversions/64fe063a006cf_IMG_9404-thumb.jpg', 'price': '60.000Fcfa'}\n",
      "{'title': 'Tenue Traditionnelle', 'image_link': 'https://sixpointneuf.innovebox.com/storage/app/public/3575/conversions/64fe06398baf8_IMG_9424-thumb.jpg', 'price': '60.000Fcfa'}\n",
      "{'title': 'N/A', 'image_link': 'https://sixpointneuf.innovebox.com/storage/app/public/3574/conversions/64fe0638a0e96_IMG_9440-thumb.jpg', 'price': '60.000Fcfa'}\n",
      "{'title': 'N/A', 'image_link': 'https://sixpointneuf.innovebox.com/storage/app/public/3573/conversions/64fe063837314_IMG_0329-thumb.jpg', 'price': '60.000Fcfa'}\n",
      "{'title': 'N/A', 'image_link': 'https://sixpointneuf.innovebox.com/storage/app/public/3572/conversions/64fe0637b6b07_IMG_0295-thumb.jpg', 'price': '60.000Fcfa'}\n"
     ]
    }
   ],
   "source": [
    "from bs4 import BeautifulSoup\n",
    "\n",
    "def extract_product_info(html_content):\n",
    "    soup = BeautifulSoup(html_content, 'html.parser')\n",
    "    products = []\n",
    "    \n",
    "    # Trouver toutes les cartes de produits\n",
    "    product_cards = soup.find_all('div', class_='card product-card card-static')\n",
    "    \n",
    "    for card in product_cards:\n",
    "        # Extraire le titre du produit\n",
    "        title_tag = card.find('h3', class_='product-title fs-sm')\n",
    "        if title_tag and title_tag.a:\n",
    "            title = title_tag.a.text.strip()\n",
    "        else:\n",
    "            title = 'N/A'\n",
    "        \n",
    "        # Extraire le lien de l'image du produit\n",
    "        image_tag = card.find('a', class_='card-img-top')\n",
    "        if image_tag and 'style' in image_tag.attrs:\n",
    "            image_link = image_tag['style'].split('url(')[1].split(')')[0].strip()\n",
    "        else:\n",
    "            image_link = 'N/A'\n",
    "        \n",
    "        # Extraire le prix du produit\n",
    "        price_tag = card.find('div', class_='product-price')\n",
    "        if price_tag:\n",
    "            price_span = price_tag.find('span', class_='text-accent')\n",
    "            if price_span:\n",
    "                price = price_span.text.strip()\n",
    "            else:\n",
    "                price = 'N/A'\n",
    "        else:\n",
    "            price = 'N/A'\n",
    "        \n",
    "        # Ajouter les informations du produit à la liste\n",
    "        products.append({\n",
    "            'title': title,\n",
    "            'image_link': image_link,\n",
    "            'price': price\n",
    "        })\n",
    "    \n",
    "    return products\n",
    "\n",
    "# Charger le contenu HTML depuis le fichier téléchargé\n",
    "file_path = 'homme.html'\n",
    "with open(file_path, 'r', encoding='utf-8') as file:\n",
    "    html_content = file.read()\n",
    "\n",
    "# Extraire les informations des produits\n",
    "product_info = extract_product_info(html_content)\n",
    "\n",
    "# Afficher les informations extraites\n",
    "for product in product_info:\n",
    "    print(product)\n"
   ]
  },
  {
   "cell_type": "markdown",
   "metadata": {},
   "source": [
    "**Etape 4:** *Gesion des erreurs avec* ***BeautifulSoup et requests***"
   ]
  },
  {
   "cell_type": "code",
   "execution_count": 1,
   "metadata": {},
   "outputs": [
    {
     "name": "stdout",
     "output_type": "stream",
     "text": [
      "Erreur : Le temps de réponse pour https://6point9.sn/categorie/homme a expiré.\n"
     ]
    }
   ],
   "source": [
    "import requests\n",
    "from bs4 import BeautifulSoup\n",
    "from requests.exceptions import RequestException, Timeout\n",
    "\n",
    "def fetch_html(url, timeout=10):\n",
    "    \"\"\"\n",
    "    Fetch the HTML content from the given URL with a specified timeout.\n",
    "    \n",
    "    Parameters:\n",
    "    url (str): The URL to fetch the HTML content from.\n",
    "    timeout (int): The maximum time (in seconds) to wait for a response.\n",
    "    \n",
    "    Returns:\n",
    "    str: The HTML content of the page, or None if an error occurred.\n",
    "    \"\"\"\n",
    "    try:\n",
    "        # Envoyer une requête HTTP GET à l'URL avec un délai d'attente spécifié\n",
    "        response = requests.get(url, timeout=timeout)\n",
    "        # Vérifier si la requête a réussi (statut HTTP 200)\n",
    "        response.raise_for_status()\n",
    "        # Retourner le contenu HTML de la réponse\n",
    "        return response.text\n",
    "    except Timeout:\n",
    "        # Gérer le cas où le temps de réponse a expiré\n",
    "        print(f\"Erreur : Le temps de réponse pour {url} a expiré.\")\n",
    "        return None\n",
    "    except RequestException as e:\n",
    "        # Gérer d'autres erreurs de requête HTTP\n",
    "        print(f\"Erreur de requête : {e}\")\n",
    "        return None\n",
    "\n",
    "def extract_product_info(html_content):\n",
    "    \"\"\"\n",
    "    Extract product information from the given HTML content.\n",
    "    \n",
    "    Parameters:\n",
    "    html_content (str): The HTML content of the page.\n",
    "    \n",
    "    Returns:\n",
    "    list: A list of dictionaries containing product information.\n",
    "    \"\"\"\n",
    "    if not html_content:\n",
    "        # Si le contenu HTML est None, retourner une liste vide\n",
    "        return []\n",
    "    \n",
    "    # Analyser le contenu HTML avec BeautifulSoup\n",
    "    soup = BeautifulSoup(html_content, 'html.parser')\n",
    "    products = []\n",
    "    \n",
    "    # Trouver toutes les cartes de produits dans la page\n",
    "    product_cards = soup.find_all('div', class_='card product-card card-static')\n",
    "    \n",
    "    for card in product_cards:\n",
    "        # Extraire le titre du produit\n",
    "        title_tag = card.find('h3', class_='product-title fs-sm')\n",
    "        if title_tag and title_tag.a:\n",
    "            title = title_tag.a.text.strip()  # Extraire le texte du titre\n",
    "        else:\n",
    "            title = 'N/A'  # Si le titre n'est pas trouvé, utiliser 'N/A'\n",
    "        \n",
    "        # Extraire le lien de l'image du produit\n",
    "        image_tag = card.find('a', class_='card-img-top')\n",
    "        if image_tag and 'style' in image_tag.attrs:\n",
    "            # Extraire le lien de l'image à partir de l'attribut 'style'\n",
    "            image_link = image_tag['style'].split('url(')[1].split(')')[0].strip()\n",
    "        else:\n",
    "            image_link = 'N/A'  # Si l'image n'est pas trouvée, utiliser 'N/A'\n",
    "        \n",
    "        # Extraire le prix du produit\n",
    "        price_tag = card.find('div', class_='product-price')\n",
    "        if price_tag:\n",
    "            price_span = price_tag.find('span', class_='text-accent')\n",
    "            if price_span:\n",
    "                price = price_span.text.strip()  # Extraire le texte du prix\n",
    "            else:\n",
    "                price = 'N/A'  # Si le prix n'est pas trouvé, utiliser 'N/A'\n",
    "        else:\n",
    "            price = 'N/A'  # Si le conteneur de prix n'est pas trouvé, utiliser 'N/A'\n",
    "        \n",
    "        # Ajouter les informations du produit à la liste des produits\n",
    "        products.append({\n",
    "            'title': title,\n",
    "            'image_link': image_link,\n",
    "            'price': price\n",
    "        })\n",
    "    \n",
    "    return products\n",
    "\n",
    "# URL de la page à scraper\n",
    "url = 'https://6point9.sn/categorie/homme'\n",
    "\n",
    "# Récupérer le contenu HTML de la page\n",
    "html_content = fetch_html(url)\n",
    "\n",
    "# Extraire les informations des produits\n",
    "product_info = extract_product_info(html_content)\n",
    "\n",
    "# Afficher les informations extraites des produits\n",
    "for product in product_info:\n",
    "    print(product)\n"
   ]
  },
  {
   "cell_type": "markdown",
   "metadata": {},
   "source": [
    "### *<p style=\"font-style:italic;\">- Stockage des donnees en CSV</p>*"
   ]
  },
  {
   "cell_type": "code",
   "execution_count": 16,
   "metadata": {},
   "outputs": [
    {
     "name": "stdout",
     "output_type": "stream",
     "text": [
      "Les informations des produits ont été enregistrées dans 'produits.csv'.\n"
     ]
    }
   ],
   "source": [
    "import requests\n",
    "from bs4 import BeautifulSoup\n",
    "import csv\n",
    "\n",
    "def fetch_html(url):\n",
    "    \"\"\"\n",
    "    Fetch the HTML content from the given URL.\n",
    "    \n",
    "    Parameters:\n",
    "    url (str): The URL to fetch the HTML content from.\n",
    "    \n",
    "    Returns:\n",
    "    str: The HTML content of the page.\n",
    "    \"\"\"\n",
    "    # Envoyer une requête HTTP GET à l'URL\n",
    "    response = requests.get(url)\n",
    "    # Retourner le contenu HTML de la réponse\n",
    "    return response.text\n",
    "\n",
    "def extract_product_info(html_content):\n",
    "    \"\"\"\n",
    "    Extract product information from the given HTML content.\n",
    "    \n",
    "    Parameters:\n",
    "    html_content (str): The HTML content of the page.\n",
    "    \n",
    "    Returns:\n",
    "    list: A list of dictionaries containing product information.\n",
    "    \"\"\"\n",
    "    # Analyser le contenu HTML avec BeautifulSoup\n",
    "    soup = BeautifulSoup(html_content, 'html.parser')\n",
    "    products = []\n",
    "    \n",
    "    # Trouver toutes les cartes de produits dans la page\n",
    "    product_cards = soup.find_all('div', class_='card product-card card-static')\n",
    "    \n",
    "    for card in product_cards:\n",
    "        # Extraire le titre du produit\n",
    "        title_tag = card.find('h3', class_='product-title fs-sm')\n",
    "        if title_tag and title_tag.a:\n",
    "            title = title_tag.a.text.strip()  # Extraire le texte du titre\n",
    "        else:\n",
    "            title = 'N/A'  # Si le titre n'est pas trouvé, utiliser 'N/A'\n",
    "        \n",
    "        # Extraire le lien de l'image du produit\n",
    "        image_tag = card.find('a', class_='card-img-top')\n",
    "        if image_tag and 'style' in image_tag.attrs:\n",
    "            # Extraire le lien de l'image à partir de l'attribut 'style'\n",
    "            image_link = image_tag['style'].split('url(')[1].split(')')[0].strip()\n",
    "        else:\n",
    "            image_link = 'N/A'  # Si l'image n'est pas trouvée, utiliser 'N/A'\n",
    "        \n",
    "        # Extraire le prix du produit\n",
    "        price_tag = card.find('div', class_='product-price')\n",
    "        if price_tag:\n",
    "            price_span = price_tag.find('span', class_='text-accent')\n",
    "            if price_span:\n",
    "                price = price_span.text.strip()  # Extraire le texte du prix\n",
    "            else:\n",
    "                price = 'N/A'  # Si le prix n'est pas trouvé, utiliser 'N/A'\n",
    "        else:\n",
    "            price = 'N/A'  # Si le conteneur de prix n'est pas trouvé, utiliser 'N/A'\n",
    "        \n",
    "        # Ajouter les informations du produit à la liste des produits\n",
    "        products.append({\n",
    "            'title': title,\n",
    "            'image_link': image_link,\n",
    "            'price': price\n",
    "        })\n",
    "    \n",
    "    return products\n",
    "\n",
    "def save_to_csv(products, filename):\n",
    "    \"\"\"\n",
    "    Save the list of products to a CSV file.\n",
    "    \n",
    "    Parameters:\n",
    "    products (list): The list of dictionaries containing product information.\n",
    "    filename (str): The name of the CSV file to save the data to.\n",
    "    \"\"\"\n",
    "    # Définir les en-têtes du fichier CSV\n",
    "    headers = ['title', 'image_link', 'price']\n",
    "    \n",
    "    # Ouvrir le fichier en mode écriture\n",
    "    with open(filename, mode='w', newline='', encoding='utf-8') as file:\n",
    "        writer = csv.DictWriter(file, fieldnames=headers)\n",
    "        # Écrire les en-têtes dans le fichier CSV\n",
    "        writer.writeheader()\n",
    "        # Écrire les données des produits dans le fichier CSV\n",
    "        writer.writerows(products)\n",
    "\n",
    "# URL de la page à scraper\n",
    "url = 'https://6point9.sn/categorie/homme'\n",
    "\n",
    "# Récupérer le contenu HTML de la page\n",
    "html_content = fetch_html(url)\n",
    "\n",
    "# Extraire les informations des produits\n",
    "product_info = extract_product_info(html_content)\n",
    "\n",
    "# Enregistrer les informations extraites dans un fichier CSV\n",
    "save_to_csv(product_info, 'produits.csv')\n",
    "\n",
    "# Afficher un message de confirmation\n",
    "print(\"Les informations des produits ont été enregistrées dans 'produits.csv'.\")\n"
   ]
  },
  {
   "cell_type": "code",
   "execution_count": 15,
   "metadata": {},
   "outputs": [
    {
     "data": {
      "text/html": [
       "<div>\n",
       "<style scoped>\n",
       "    .dataframe tbody tr th:only-of-type {\n",
       "        vertical-align: middle;\n",
       "    }\n",
       "\n",
       "    .dataframe tbody tr th {\n",
       "        vertical-align: top;\n",
       "    }\n",
       "\n",
       "    .dataframe thead th {\n",
       "        text-align: right;\n",
       "    }\n",
       "</style>\n",
       "<table border=\"1\" class=\"dataframe\">\n",
       "  <thead>\n",
       "    <tr style=\"text-align: right;\">\n",
       "      <th></th>\n",
       "      <th>title</th>\n",
       "      <th>image_link</th>\n",
       "      <th>price</th>\n",
       "    </tr>\n",
       "  </thead>\n",
       "  <tbody>\n",
       "    <tr>\n",
       "      <th>0</th>\n",
       "      <td>Tenue Traditionnelle</td>\n",
       "      <td>https://sixpointneuf.innovebox.com/storage/app...</td>\n",
       "      <td>80.000Fcfa</td>\n",
       "    </tr>\n",
       "    <tr>\n",
       "      <th>1</th>\n",
       "      <td>Tenue Traditionnelle</td>\n",
       "      <td>https://sixpointneuf.innovebox.com/storage/app...</td>\n",
       "      <td>80.000Fcfa</td>\n",
       "    </tr>\n",
       "    <tr>\n",
       "      <th>2</th>\n",
       "      <td>Tenue Traditionnelle</td>\n",
       "      <td>https://sixpointneuf.innovebox.com/storage/app...</td>\n",
       "      <td>80.000Fcfa</td>\n",
       "    </tr>\n",
       "    <tr>\n",
       "      <th>3</th>\n",
       "      <td>Tenue Traditionnelle</td>\n",
       "      <td>https://sixpointneuf.innovebox.com/storage/app...</td>\n",
       "      <td>80.000Fcfa</td>\n",
       "    </tr>\n",
       "    <tr>\n",
       "      <th>4</th>\n",
       "      <td>Tenue Traditionnelle</td>\n",
       "      <td>https://sixpointneuf.innovebox.com/storage/app...</td>\n",
       "      <td>80.000Fcfa</td>\n",
       "    </tr>\n",
       "  </tbody>\n",
       "</table>\n",
       "</div>"
      ],
      "text/plain": [
       "                  title                                         image_link  \\\n",
       "0  Tenue Traditionnelle  https://sixpointneuf.innovebox.com/storage/app...   \n",
       "1  Tenue Traditionnelle  https://sixpointneuf.innovebox.com/storage/app...   \n",
       "2  Tenue Traditionnelle  https://sixpointneuf.innovebox.com/storage/app...   \n",
       "3  Tenue Traditionnelle  https://sixpointneuf.innovebox.com/storage/app...   \n",
       "4  Tenue Traditionnelle  https://sixpointneuf.innovebox.com/storage/app...   \n",
       "\n",
       "        price  \n",
       "0  80.000Fcfa  \n",
       "1  80.000Fcfa  \n",
       "2  80.000Fcfa  \n",
       "3  80.000Fcfa  \n",
       "4  80.000Fcfa  "
      ]
     },
     "execution_count": 15,
     "metadata": {},
     "output_type": "execute_result"
    }
   ],
   "source": [
    "import pandas as pd\n",
    "data = pd.read_csv('produits.csv')\n",
    "data.head()"
   ]
  },
  {
   "cell_type": "markdown",
   "metadata": {},
   "source": [
    "### *<p style=\"font-style:italic;\">- Analyse et visualisation des donnees</p>*"
   ]
  },
  {
   "cell_type": "markdown",
   "metadata": {},
   "source": [
    "**Etape 1 :** *Nettoyage et préparation des données*"
   ]
  },
  {
   "cell_type": "code",
   "execution_count": 17,
   "metadata": {},
   "outputs": [
    {
     "name": "stdout",
     "output_type": "stream",
     "text": [
      "                  title                                         image_link  \\\n",
      "0  Tenue Traditionnelle  https://sixpointneuf.innovebox.com/storage/app...   \n",
      "1  Tenue Traditionnelle  https://sixpointneuf.innovebox.com/storage/app...   \n",
      "2  Tenue Traditionnelle  https://sixpointneuf.innovebox.com/storage/app...   \n",
      "3  Tenue Traditionnelle  https://sixpointneuf.innovebox.com/storage/app...   \n",
      "4  Tenue Traditionnelle  https://sixpointneuf.innovebox.com/storage/app...   \n",
      "\n",
      "        price  \n",
      "0  80.000Fcfa  \n",
      "1  80.000Fcfa  \n",
      "2  80.000Fcfa  \n",
      "3  80.000Fcfa  \n",
      "4  80.000Fcfa  \n",
      "<class 'pandas.core.frame.DataFrame'>\n",
      "RangeIndex: 36 entries, 0 to 35\n",
      "Data columns (total 3 columns):\n",
      " #   Column      Non-Null Count  Dtype  \n",
      "---  ------      --------------  -----  \n",
      " 0   title       20 non-null     object \n",
      " 1   image_link  36 non-null     object \n",
      " 2   price       36 non-null     float64\n",
      "dtypes: float64(1), object(2)\n",
      "memory usage: 996.0+ bytes\n",
      "None\n",
      "           price\n",
      "count  36.000000\n",
      "mean   63.333333\n",
      "std     7.559289\n",
      "min    60.000000\n",
      "25%    60.000000\n",
      "50%    60.000000\n",
      "75%    60.000000\n",
      "max    80.000000\n"
     ]
    }
   ],
   "source": [
    "import pandas as pd\n",
    "import matplotlib.pyplot as plt\n",
    "import seaborn as sns\n",
    "\n",
    "# Lire les données du fichier CSV\n",
    "df = pd.read_csv('produits.csv')\n",
    "\n",
    "# Afficher les premières lignes du DataFrame\n",
    "print(df.head())\n",
    "\n",
    "# Nettoyer les données : enlever les lignes où le titre, l'image ou le prix est manquant\n",
    "df = df[(df['title'] != 'N/A') & (df['image_link'] != 'N/A') & (df['price'] != 'N/A')]\n",
    "\n",
    "# Convertir les prix en numérique (enlever les symboles de monnaie et les espaces inutiles)\n",
    "df['price'] = df['price'].str.replace('Fcfa', '').str.replace(' FCFA', '').str.replace(',', '').str.replace(' ', '').astype(float)\n",
    "\n",
    "# Afficher un résumé des données nettoyées\n",
    "print(df.info())\n",
    "print(df.describe())\n"
   ]
  },
  {
   "cell_type": "markdown",
   "metadata": {},
   "source": [
    "**Etape 2 :** *Analyse et visualisation des donnes*"
   ]
  },
  {
   "cell_type": "markdown",
   "metadata": {},
   "source": [
    "- Calcul des statistiques descriptives"
   ]
  },
  {
   "cell_type": "code",
   "execution_count": 18,
   "metadata": {},
   "outputs": [
    {
     "name": "stdout",
     "output_type": "stream",
     "text": [
      "Prix moyen: 63.33 FCFA\n",
      "Prix médian: 60.00 FCFA\n",
      "Écart-type des prix: 7.56 FCFA\n",
      "Distribution des prix:\n",
      "price\n",
      "60.0    30\n",
      "80.0     6\n",
      "Name: count, dtype: int64\n"
     ]
    }
   ],
   "source": [
    "import numpy as np\n",
    "\n",
    "# Statistiques descriptives\n",
    "mean_price = df['price'].mean()\n",
    "median_price = df['price'].median()\n",
    "std_price = df['price'].std()\n",
    "\n",
    "print(f\"Prix moyen: {mean_price:.2f} FCFA\")\n",
    "print(f\"Prix médian: {median_price:.2f} FCFA\")\n",
    "print(f\"Écart-type des prix: {std_price:.2f} FCFA\")\n",
    "\n",
    "# Distribution des prix\n",
    "price_distribution = df['price'].value_counts().sort_index()\n",
    "\n",
    "print(\"Distribution des prix:\")\n",
    "print(price_distribution)\n"
   ]
  },
  {
   "cell_type": "markdown",
   "metadata": {},
   "source": [
    "**Etape 3 :** *Visualisation des données*\n",
    "- Création des visualisations"
   ]
  },
  {
   "cell_type": "code",
   "execution_count": 19,
   "metadata": {},
   "outputs": [
    {
     "data": {
      "image/png": "[encoded data removed]",
      "text/plain": [
       "<Figure size 1000x600 with 1 Axes>"
      ]
     },
     "metadata": {},
     "output_type": "display_data"
    },
    {
     "data": {
      "image/png": "[encoded data removed]",
      "text/plain": [
       "<Figure size 1000x600 with 1 Axes>"
      ]
     },
     "metadata": {},
     "output_type": "display_data"
    },
    {
     "data": {
      "image/png": "[encoded data removed]",
      "text/plain": [
       "<Figure size 1000x600 with 1 Axes>"
      ]
     },
     "metadata": {},
     "output_type": "display_data"
    }
   ],
   "source": [
    "import matplotlib.pyplot as plt\n",
    "import seaborn as sns\n",
    "\n",
    "# Style des graphiques\n",
    "sns.set(style=\"whitegrid\")\n",
    "\n",
    "# Histogramme des prix\n",
    "plt.figure(figsize=(10, 6))\n",
    "sns.histplot(df['price'], kde=True, bins=30)\n",
    "plt.title('Distribution des prix des produits')\n",
    "plt.xlabel('Prix (FCFA)')\n",
    "plt.ylabel('Nombre de produits')\n",
    "plt.show()\n",
    "\n",
    "# Boîte à moustaches des prix\n",
    "plt.figure(figsize=(10, 6))\n",
    "sns.boxplot(x=df['price'])\n",
    "plt.title('Répartition des prix des produits')\n",
    "plt.xlabel('Prix (FCFA)')\n",
    "plt.show()\n",
    "\n",
    "# Nuage de points des prix\n",
    "plt.figure(figsize=(10, 6))\n",
    "sns.scatterplot(data=df, x=np.arange(len(df)), y='price')\n",
    "plt.title('Prix des produits')\n",
    "plt.xlabel('Index du produit')\n",
    "plt.ylabel('Prix (FCFA)')\n",
    "plt.show()\n"
   ]
  }
 ],
 "metadata": {
  "kernelspec": {
   "display_name": "Python 3",
   "language": "python",
   "name": "python3"
  },
  "language_info": {
   "codemirror_mode": {
    "name": "ipython",
    "version": 3
   },
   "file_extension": ".py",
   "mimetype": "text/x-python",
   "name": "python",
   "nbconvert_exporter": "python",
   "pygments_lexer": "ipython3",
   "version": "3.12.1"
  }
 },
 "nbformat": 4,
 "nbformat_minor": 2
}
